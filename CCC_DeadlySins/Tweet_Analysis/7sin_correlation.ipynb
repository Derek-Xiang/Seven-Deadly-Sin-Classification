{
 "cells": [
  {
   "cell_type": "code",
   "execution_count": 130,
   "metadata": {
    "scrolled": false
   },
   "outputs": [
    {
     "name": "stdout",
     "output_type": "stream",
     "text": [
      "envy:0.6255202735815252\n",
      "wrath:0.6176811085414585\n",
      "gluttony:0.6150169191879669\n",
      "greed:0.6063902809158757\n",
      "lust:0.6015808617589176\n",
      "sloth:0.5811615257280293\n",
      "pride:0.5395179003962228\n"
     ]
    }
   ],
   "source": [
    "import json\n",
    "with open(r\"E:\\M\\90024CCC\\sin_tracker_0512sorted.json\",encoding='utf-8') as f:\n",
    "    sin_tracker_valued = json.load(f)\n",
    "    sin = {'wrath':[],'sloth':[],'pride':[],'greed':[],'gluttony':[],'envy':[],'lust':[]}\n",
    "    for s in sin:\n",
    "        for site in sin_tracker_valued:\n",
    "            sin[s].append(sin_tracker_valued[site][s])\n",
    "\n",
    "crimerate = [0.0666, 0.0473,0.0544,0.0461,0.0487, 0.0776,0.0230,0.0500,0.0245,0.0605,0.0653,0.0733,0.0376,0.0551,0.0451,0.0898,0.0340,0.0632,0.0736,0.0520,0.0303,0.0383,0.0321,0.0534,0.0427,0.0657,0.0436,0.0486,0.0733,0.1113,0.0700,0.0396,0.0742,0.0536,0.0286,0.0523,0.0793,0.1260,0.0407,0.0445,0.0576,0.0924,0.0356,0.0863,0.0777,0.0370,0.0688,0.0744,0.0530,0.0425,0.0681,0.0362,0.0652,0.0659,0.0274,0.0870,0.0329,0.0865,0.0520,0.0724,0.0854,0.0443,0.0752,0.0689,0.0641,0.0567,0.0591,0.0562,0.0539,0.0293,0.1828,0.0602,0.0879,0.0540,0.0579,0.0304,0.0419,0.0388,0.0264]   \n",
    "\n",
    "\n",
    "#expectation\n",
    "def mean(x):\n",
    "  return sum(x) / len(x)\n",
    "\n",
    "# Calculate the difference between each data and the mean\n",
    "def de_mean(x):\n",
    "  x_bar = mean(x)\n",
    "  return [x_i - x_bar for x_i in x]\n",
    "# dot product 、sum_of_squares\n",
    "def dot(v, w):\n",
    "  return sum(v_i * w_i for v_i, w_i in zip(v, w))\n",
    "def sum_of_squares(v):\n",
    "  return dot(v, v)\n",
    "\n",
    "# variance\n",
    "def variance(x):\n",
    "  n = len(x)\n",
    "  deviations = de_mean(x)\n",
    "  return sum_of_squares(deviations) / (n - 1)\n",
    "\n",
    "# standard deviation\n",
    "import math\n",
    "def standard_deviation(x):\n",
    "  return math.sqrt(variance(x))\n",
    "\n",
    "\n",
    "# covariance\n",
    "def covariance(x, y):\n",
    "  n = len(x)\n",
    "  return dot(de_mean(x), de_mean(y)) / (n -1)\n",
    "\n",
    "# correlation\n",
    "def correlation(x, y):\n",
    "  stdev_x = standard_deviation(x)\n",
    "  stdev_y = standard_deviation(y)\n",
    "  if stdev_x > 0 and stdev_y > 0:\n",
    "    return covariance(x, y) / stdev_x / stdev_y\n",
    "  else:\n",
    "    return 0\n",
    "\n",
    "\n",
    "# print(\"corr_wrath:\",(correlation(sin[\"wrath\"], crimerate)))\n",
    "# print(\"corr_sloth\",correlation(sin[\"sloth\"], crimerate))\n",
    "# print(\"corr_pride\",correlation(sin[\"pride\"], crimerate))\n",
    "# print(\"corr_greed\",correlation(sin[\"greed\"], crimerate))\n",
    "# print(\"corr_gluttony\",correlation(sin[\"gluttony\"], crimerate))\n",
    "# print(\"corr_envy\",correlation(sin[\"envy\"], crimerate))\n",
    "# print(\"corr_lust\",correlation(sin[\"lust\"], crimerate))\n",
    "\n",
    "d={}\n",
    "for s in sin:\n",
    "    d[correlation(sin[s], crimerate)]=s\n",
    "\n",
    "List=[correlation(sin[\"wrath\"], crimerate),correlation(sin[\"sloth\"], crimerate),correlation(sin[\"pride\"],crimerate),correlation(sin[\"greed\"], crimerate),correlation(sin[\"gluttony\"], crimerate),correlation(sin[\"envy\"], crimerate),correlation(sin[\"lust\"], crimerate)]\n",
    "List.sort()\n",
    "List_with_name = List[::-1]\n",
    "for i in range(len(List_with_name)):\n",
    "    print(d[List_with_name[i]]+\":\" +str(List_with_name[i]))"
   ]
  }
 ],
 "metadata": {
  "kernelspec": {
   "display_name": "Python 3",
   "language": "python",
   "name": "python3"
  },
  "language_info": {
   "codemirror_mode": {
    "name": "ipython",
    "version": 3
   },
   "file_extension": ".py",
   "mimetype": "text/x-python",
   "name": "python",
   "nbconvert_exporter": "python",
   "pygments_lexer": "ipython3",
   "version": "3.7.0"
  }
 },
 "nbformat": 4,
 "nbformat_minor": 2
}
